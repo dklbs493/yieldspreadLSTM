{
  "nbformat": 4,
  "nbformat_minor": 0,
  "metadata": {
    "colab": {
      "provenance": [],
      "gpuType": "V100",
      "machine_shape": "hm",
      "include_colab_link": true
    },
    "kernelspec": {
      "name": "python3",
      "display_name": "Python 3"
    },
    "language_info": {
      "name": "python"
    },
    "accelerator": "GPU"
  },
  "cells": [
    {
      "cell_type": "markdown",
      "metadata": {
        "id": "view-in-github",
        "colab_type": "text"
      },
      "source": [
        "<a href=\"https://colab.research.google.com/github/dklbs493/yieldspreadLSTM/blob/main/yield_spread_LSTM.ipynb\" target=\"_parent\"><img src=\"https://colab.research.google.com/assets/colab-badge.svg\" alt=\"Open In Colab\"/></a>"
      ]
    },
    {
      "cell_type": "code",
      "source": [
        "# import necessary dependencies and mount google drive to access data.\n",
        "from google.colab import drive\n",
        "import numpy as np\n",
        "import pandas as pd\n",
        "import torch\n",
        "import torch.nn as nn\n",
        "import torch.optim as optim\n",
        "from sklearn.experimental import enable_iterative_imputer\n",
        "from sklearn.impute import IterativeImputer\n",
        "from sklearn.model_selection import train_test_split\n",
        "from sklearn.preprocessing import MinMaxScaler\n",
        "import matplotlib.pyplot as plt\n",
        "import copy\n",
        "\n",
        "# path to drive where csv file is read from\n",
        "drive.mount('/content/drive')\n",
        "datadir = \"/content/drive/MyDrive/RJO_Internship/sampleDailyInputData_06-27-21.csv\"\n",
        "big_datadir = \"/content/drive/MyDrive/RJO_Internship/good_pull.xlsx\""
      ],
      "metadata": {
        "colab": {
          "base_uri": "https://localhost:8080/"
        },
        "id": "3AgpfP3RsTpQ",
        "outputId": "fb522f92-f9e3-409a-ba4a-c397fe0f5ee0"
      },
      "execution_count": null,
      "outputs": [
        {
          "output_type": "stream",
          "name": "stdout",
          "text": [
            "Mounted at /content/drive\n"
          ]
        }
      ]
    },
    {
      "cell_type": "markdown",
      "source": [
        "# Data Processing"
      ],
      "metadata": {
        "id": "BLoRkVQoKDvL"
      }
    },
    {
      "cell_type": "code",
      "source": [
        "# this function adds columns to a dataframe containing yield spreads\n",
        "# between the assets of interest\n",
        "def create_yield_spread_columns(df, asset_names):\n",
        "  for asset1 in asset_names:\n",
        "    for asset2 in asset_names:\n",
        "      if asset1 != asset2:\n",
        "        df[asset1 + '_' + asset2] = df[asset1] - df[asset2]\n",
        "  return df"
      ],
      "metadata": {
        "id": "PUtFMS35-8z1"
      },
      "execution_count": null,
      "outputs": []
    },
    {
      "cell_type": "code",
      "source": [
        "# load historical data from path into a pandas DataFrame\n",
        "df = pd.read_csv(datadir, index_col=0, header=[0,1], parse_dates=True)\n",
        "df.columns = [' '.join(col).strip() for col in df.columns.values]\n",
        "print(df.shape)\n",
        "\n",
        "# list of assets (which must be column names of the df above) for which we will forecast yield spreads\n",
        "asset_names = ['MTGEFNCL Index PX_LAST', 'LRC30APR Index PX_LAST', 'GT5 Govt PX_LAST', 'USGG5YR Index PX_LAST']\n",
        "\n",
        "# transform existing DataFrame by calculating yield spreads and assigning to new DataFrame\n",
        "yield_spreads_df = create_yield_spread_columns(df, asset_names)\n",
        "\n",
        "# number of yield spreads, adjust accordingly\n",
        "n = len(asset_names) * (len(asset_names) - 1)\n",
        "print(yield_spreads_df.shape)\n",
        "\n",
        "# seperate yield spreads from other market information\n",
        "yield_spreads = yield_spreads_df.iloc[:, -n:]\n",
        "other_columns = yield_spreads_df.iloc[:, :-n]\n",
        "\n",
        "# concatenate yield spreads with other market information to restructure into new DataFrame\n",
        "df_new = pd.concat([yield_spreads, other_columns], axis=1)\n",
        "\n",
        "# Just fill missing data with zeros\n",
        "# NOTE: we could also use imputation but zero-filling seems to work just as well, if not better\n",
        "data = df_new.fillna(0)\n",
        "\n",
        "# separate the yield spreads (which are the targets) from other market information and convert to numpy arrays.\n",
        "yield_spreads = data.iloc[:, :n].values\n",
        "market_info = data.iloc[:, n:].values\n",
        "\n",
        "# check if any Colab GPU's are available. If they are, we'll use them to train the model.\n",
        "device = torch.device('cuda' if torch.cuda.is_available() else 'cpu')\n",
        "\n",
        "# convert the data to PyTorch tensors of type torch.float32 and run on GPU if available\n",
        "X_yield_spreads = torch.tensor(yield_spreads, dtype=torch.float32).to(device)\n",
        "X_market_info = torch.tensor(market_info, dtype=torch.float32).to(device)"
      ],
      "metadata": {
        "colab": {
          "base_uri": "https://localhost:8080/"
        },
        "id": "E5CDszmu-T6F",
        "outputId": "67befe22-599c-4b87-9226-f4f82663dbeb"
      },
      "execution_count": null,
      "outputs": [
        {
          "output_type": "stream",
          "name": "stdout",
          "text": [
            "(519, 40)\n",
            "(519, 52)\n"
          ]
        }
      ]
    },
    {
      "cell_type": "code",
      "source": [
        "# Function generate 3-D training tensor with sequences of specified length.\n",
        "def make_sequences(X, y, seq_len):\n",
        "  out_dim = y.shape[1]\n",
        "  out = torch.zeros(X.shape[0] - seq_len, seq_len, X.shape[1] + out_dim)\n",
        "  i = seq_len\n",
        "  while i < X.shape[0]:\n",
        "    out[i - seq_len,:,:-out_dim] = X[i-seq_len:i,:]\n",
        "    out[i - seq_len,:, -out_dim:] = y[i-seq_len:i,:]\n",
        "    i+=1\n",
        "  return out"
      ],
      "metadata": {
        "id": "9ntWpRlj8uza"
      },
      "execution_count": null,
      "outputs": []
    },
    {
      "cell_type": "markdown",
      "source": [
        "Choose sequence length and yield spread prediction horizon for data processing"
      ],
      "metadata": {
        "id": "WTqXOOHj1GCF"
      }
    },
    {
      "cell_type": "code",
      "source": [
        "horizon = 0 # Choose this to be 0 for a one day horizon, 6 for one week, 13 for two weeks, etc.\n",
        "batch_size = 64 # 64 seems to be the best batch size for this particular dataset.\n",
        "seq_len = 20 # gives the number of days-worth of data the model will use to make a prediction.\n",
        "\n",
        "y = torch.tensor(yield_spreads, dtype=torch.float32).to(device)\n",
        "X_seq = make_sequences(X_market_info, y, seq_len)\n",
        "\n",
        "# split the data into training, validation, and testing sets\n",
        "x_train, x_test, y_train, y_test = train_test_split(X_seq[:X_seq.shape[0]-horizon,:,:],\n",
        "                                                    y[seq_len:y.shape[0] - horizon], test_size=0.2, shuffle=True)\n",
        "x_train, x_val, y_train, y_val = train_test_split(x_train, y_train, test_size=0.2,\n",
        "                                                  shuffle=True)\n",
        "\n",
        "# initialize dataloaders with the newly sequenced and partitioned data for later use in model training\n",
        "train_dataset = torch.utils.data.TensorDataset(x_train, y_train)\n",
        "train_loader = torch.utils.data.DataLoader(train_dataset, batch_size=batch_size)\n",
        "\n",
        "val_dataset = torch.utils.data.TensorDataset(x_val, y_val)\n",
        "val_loader = torch.utils.data.DataLoader(val_dataset, batch_size=batch_size)\n",
        "\n",
        "test_dataset = torch.utils.data.TensorDataset(x_test, y_test)\n",
        "test_loader = torch.utils.data.DataLoader(test_dataset, batch_size=batch_size)"
      ],
      "metadata": {
        "id": "iMYv1fNF1CaX"
      },
      "execution_count": null,
      "outputs": []
    },
    {
      "cell_type": "markdown",
      "source": [
        "# Model Training & Evaluation"
      ],
      "metadata": {
        "id": "SXnY4q-YKJYP"
      }
    },
    {
      "cell_type": "markdown",
      "source": [
        "Model classes: two-layer neural network, long short-term memory model"
      ],
      "metadata": {
        "id": "8-gbBKYSF8kJ"
      }
    },
    {
      "cell_type": "code",
      "source": [
        "# define a simple two-layer neural network with ReLU activation functions\n",
        "class Spread(nn.Module):\n",
        "    def __init__(self, input_size, hidden_size_1, hidden_size_2, output):\n",
        "        super(Spread, self).__init__()\n",
        "        self.fc1 = nn.Linear(input_size, hidden_size_1)\n",
        "        self.fc2 = nn.Linear(hidden_size_1, hidden_size_2)\n",
        "        self.fc3 = nn.Linear(hidden_size_2, output)\n",
        "\n",
        "    def forward(self, x):\n",
        "        if x.dim > 2:\n",
        "          x = torch.flatten(x, start_dim=1)\n",
        "        x = torch.relu(self.fc1(x))\n",
        "        x = torch.relu(self.fc2(x))\n",
        "        x = self.fc3(x)\n",
        "        return x\n",
        "\n",
        "# define a long short-term memory (LSTM) network\n",
        "class SpreadLSTM(nn.Module):\n",
        "  def __init__(self, input_size, hidden_size, output_size, dropout, num_layers, seq_len, bidirectional=False):\n",
        "        super(SpreadLSTM, self).__init__()\n",
        "        self.lstm = nn.LSTM(input_size, hidden_size, dropout=dropout, num_layers=num_layers, batch_first = True, bidirectional=bidirectional)\n",
        "        self.flat = nn.Flatten()\n",
        "        if bidirectional:\n",
        "          self.fc1 = nn.Linear(2 * hidden_size * seq_len, output_size)\n",
        "        else:\n",
        "          self.fc1 = nn.Linear(hidden_size * seq_len, output_size)\n",
        "\n",
        "  def forward(self, x):\n",
        "        out, tup = self.lstm(x)\n",
        "        out = self.flat(out)\n",
        "        out = self.fc1(out)\n",
        "        return out"
      ],
      "metadata": {
        "id": "0NwJkonasifl"
      },
      "execution_count": null,
      "outputs": []
    },
    {
      "cell_type": "code",
      "source": [
        "# --------- train_model() is a helper function to train a given neural network model --------- #\n",
        "\n",
        "# ---- Inputs ---- #\n",
        "# model - the model that will be trained\n",
        "# optimizer - the optimization method to be used (i.e. stocahstic gradient descent (SGD) or Adam)\n",
        "# num_epochs - the number of epochs (how many times we run through the whole training set)\n",
        "# train_loader & val_loader - dataloader objects that contain the training and validation sets.\n",
        "\n",
        "def train_model(model, optimizer, num_epochs, train_loader, val_loader):\n",
        "  best_model = None\n",
        "  lowest_val_loss = 10\n",
        "\n",
        "  val_losses, train_losses = [], []\n",
        "  for epoch in range(num_epochs):\n",
        "    model.train()\n",
        "    train_loss = 0\n",
        "\n",
        "    # iterate over training set batches\n",
        "    for inputs, targets in train_loader:\n",
        "        # convert inputs and targets to run on GPU if available\n",
        "        inputs = inputs.to(device)\n",
        "        targets = targets.to(device)\n",
        "\n",
        "        # update learnable weights of model as well as output input of inputs\n",
        "        optimizer.zero_grad()\n",
        "        outputs = model(inputs)\n",
        "\n",
        "        # MSE loss between inputs outputs and actual targets values\n",
        "        loss = criterion(outputs, targets)\n",
        "        loss.backward()\n",
        "        optimizer.step()\n",
        "\n",
        "        train_loss += loss.item() * inputs.size(0)\n",
        "\n",
        "    # calculate average training loss for every epoch and store it\n",
        "    train_loss /= len(train_loader.dataset)\n",
        "    train_losses.append(train_loss)\n",
        "\n",
        "    # evaluate model on validation set without calculating gradients\n",
        "    model.eval()\n",
        "    val_loss = 0\n",
        "\n",
        "    with torch.no_grad():\n",
        "        for inputs, targets in val_loader:\n",
        "            inputs = inputs.to(device)\n",
        "            targets = targets.to(device)\n",
        "\n",
        "            val_outputs = model(inputs)\n",
        "            batch_loss = criterion(val_outputs, targets)\n",
        "\n",
        "            val_loss += batch_loss.item() * inputs.size(0)\n",
        "\n",
        "        val_loss /= len(val_loader.dataset)\n",
        "        val_losses.append(val_loss)\n",
        "  # return a tuple of the trained model, validation and training losses\n",
        "  return model, val_loss, train_loss, train_losses, val_losses"
      ],
      "metadata": {
        "id": "7LgoOawxtCzX"
      },
      "execution_count": null,
      "outputs": []
    },
    {
      "cell_type": "markdown",
      "source": [
        "Run a parameter search to find the best model given a horizon and sequence length"
      ],
      "metadata": {
        "id": "iLWMYKgK1RLd"
      }
    },
    {
      "cell_type": "code",
      "source": [
        "num_epochs = 70 # define the number of epochs to train each model for.\n",
        "\n",
        "# give lists of different weight decay, learning rate, and hidden size values to\n",
        "# train models over\n",
        "\n",
        "weight_decays = [0, 1e-4, 1e-3, 5e-3]\n",
        "learning_rates = [5e-4, 1e-3]\n",
        "hidden_sizes = [128, 256, 512]\n",
        "\n",
        "# initialize the loss function. Here we are just using mean squared error loss.\n",
        "criterion = nn.MSELoss()\n",
        "\n",
        "cur_best_model = None # stores model with lowest validation loss\n",
        "cur_best_val = 1000000 # large constant which will be replaced by validation loss\n",
        "cur_best_param_dict = None # stores parameters of best model\n",
        "\n",
        "for wd in weight_decays:\n",
        "  for lr in learning_rates:\n",
        "    for hidden_size in hidden_sizes:\n",
        "\n",
        "      # initialize the model and optimizer with the parameters given above\n",
        "      cur_model = SpreadLSTM(input_size=X_seq.shape[-1], hidden_size=hidden_size,\n",
        "                             output_size=y.shape[-1], dropout=0,\n",
        "                             num_layers=1, seq_len=seq_len).to(device)\n",
        "      optimizer = optim.Adam(cur_model.parameters(), lr=lr)\n",
        "\n",
        "      # train the model and keep track of relevant values\n",
        "      (cur_model, cur_val_loss, cur_train_loss,\n",
        "       cur_train_history, cur_val_history) = train_model(cur_model, optimizer,\n",
        "                                                       num_epochs, train_loader, val_loader)\n",
        "\n",
        "      # update the current best model and it's associated parameters to access\n",
        "      # once the parameter search is complete\n",
        "      if cur_val_loss <= cur_best_val:\n",
        "        cur_best_model = cur_model\n",
        "        cur_best_val = cur_val_loss\n",
        "        cur_best_param_dict = {\"train loss\": cur_train_loss, \"validation loss\": cur_best_val,\n",
        "                               \"train history\": cur_train_history, \"validation history\": cur_val_history,\n",
        "                                \"sequence length\": seq_len, \"learning rate\": lr,\n",
        "                                \"weight decay\": wd, \"hidden size\": hidden_size}\n",
        "\n",
        "# ====== evaluate the model on test set ====== #\n",
        "\n",
        "cur_best_model.eval() # set the model to evaluation mode\n",
        "test_loss = 0\n",
        "\n",
        "with torch.no_grad():\n",
        "    for inputs, targets in test_loader:\n",
        "        inputs = inputs.to(device)\n",
        "        targets = targets.to(device)\n",
        "\n",
        "        test_outputs = cur_best_model(inputs)\n",
        "        batch_loss = criterion(test_outputs, targets)\n",
        "\n",
        "        test_loss += batch_loss.item() * inputs.size(0)\n",
        "\n",
        "    test_loss /= len(test_loader.dataset)\n",
        "\n",
        "# add the test loss to the parameter dictionary\n",
        "cur_best_param_dict[\"test loss\"] = test_loss\n",
        "\n",
        "print(\"Training Loss:\", cur_best_param_dict[\"train loss\"])\n",
        "print(\"Validation Loss:\", cur_best_param_dict[\"validation loss\"])\n",
        "print(\"Test Loss:\", cur_best_param_dict[\"test loss\"])\n",
        "\n",
        "# plot the loss curves\n",
        "plt.figure()\n",
        "plt.title(\"Loss vs. Training Epoch\")\n",
        "plt.ylabel(\"Mean Squared Error\")\n",
        "plt.xlabel(\"Training Epoch\")\n",
        "plt.yscale(\"log\")\n",
        "plt.plot(np.arange(num_epochs) + 1, cur_best_param_dict[\"train history\"], label=\"Train\")\n",
        "plt.plot(np.arange(num_epochs) + 1, cur_best_param_dict[\"validation history\"], label= \"Validation\")\n",
        "plt.legend()"
      ],
      "metadata": {
        "colab": {
          "base_uri": "https://localhost:8080/",
          "height": 543
        },
        "id": "6xuN8dymRtpv",
        "outputId": "b1054171-15a2-45ac-b06c-4e966e8cf885"
      },
      "execution_count": null,
      "outputs": [
        {
          "output_type": "stream",
          "name": "stdout",
          "text": [
            "Training Loss: 0.0018697173698136705\n",
            "Validation Loss: 0.002643681783229113\n",
            "Test Loss: 0.0025611783284693957\n"
          ]
        },
        {
          "output_type": "execute_result",
          "data": {
            "text/plain": [
              "<matplotlib.legend.Legend at 0x7bc16e4f9f90>"
            ]
          },
          "metadata": {},
          "execution_count": 28
        },
        {
          "output_type": "display_data",
          "data": {
            "text/plain": [
              "<Figure size 640x480 with 1 Axes>"
            ],
            "image/png": "[encoded data removed]"
          },
          "metadata": {}
        }
      ]
    },
    {
      "cell_type": "markdown",
      "source": [
        "Save the model to the google drive folder for later use"
      ],
      "metadata": {
        "id": "g_Zc9o923Yfp"
      }
    },
    {
      "cell_type": "code",
      "source": [
        "save_model_name = 'lstm_1day_20seqlen_512hidden.pt'\n",
        "PATH = f\"/content/drive/MyDrive/RJO_Internship/Models/{save_model_name}\"\n",
        "\n",
        "torch.save(cur_best_model.state_dict(), PATH)"
      ],
      "metadata": {
        "id": "ycwzumChmDRh"
      },
      "execution_count": null,
      "outputs": []
    },
    {
      "cell_type": "markdown",
      "source": [
        "Evaluate the model on test data, compute predicted versus actual rankings of each yield spread."
      ],
      "metadata": {
        "id": "CXstHcpP9lUm"
      }
    },
    {
      "cell_type": "code",
      "source": [
        "model = SpreadLSTM(input_size=x_test.shape[-1],hidden_size=512,output_size=y_test.shape[-1],\n",
        "                   dropout=0,num_layers=1,seq_len=seq_len)\n",
        "model.load_state_dict(torch.load(PATH, map_location=device))\n",
        "model.eval()\n",
        "\n",
        "# convert the predicted tensor back to a NumPy array\n",
        "predictions = model(x_test).detach().numpy()\n",
        "\n",
        "# calculate the average predicted yield spread for each instrument\n",
        "avg_predicted_spreads = np.mean(predictions, axis=0)\n",
        "avg_actual_spreads = np.mean(y_test.detach().cpu().numpy(), axis=0)\n",
        "\n",
        "# get instrument names\n",
        "instrument_names = df_new.columns[:n]\n",
        "\n",
        "# create a list of tuples with instrument names and their average predicted spreads\n",
        "predicted_instrument_spreads = list(zip(instrument_names, avg_predicted_spreads))\n",
        "actual_instrument_spreads = list(zip(instrument_names, avg_actual_spreads))\n",
        "\n",
        "# rank all of the instruments based on their average predicted yield spreads\n",
        "predicted_instrument_ranks = sorted(predicted_instrument_spreads, key=lambda x: x[1], reverse=True)\n",
        "actual_instrument_ranks = sorted(actual_instrument_spreads, key=lambda x: x[1], reverse=True)\n",
        "\n",
        "print(\"Average differnece between predicted and actual spread:\",\n",
        "      np.mean(np.abs(predictions - y_test.detach().cpu().numpy())))\n",
        "\n",
        "# see how many mismatches occur in the predicted vs. actual rankings\n",
        "mismatches = 0\n",
        "for rank in range(len(predicted_instrument_spreads)):\n",
        "  if predicted_instrument_spreads[rank][0] != actual_instrument_spreads[rank][0]:\n",
        "    mismatches += 1\n",
        "print(\"\\nThere are \" + str(mismatches) + \" mismatches between the predicted and actual rankings.\")\n",
        "\n",
        "#print each instrument's ranking\n",
        "print(\"\\nPredicted Instrument Rankings:\")\n",
        "for rank, (instrument_name, spread) in enumerate(predicted_instrument_ranks):\n",
        "    print(f\"Rank {rank+1}: Instrument {instrument_name} ({spread})\")\n",
        "\n",
        "print(\"\\nActual Instrument Rankings:\")\n",
        "for rank, (instrument_name, spread) in enumerate(actual_instrument_ranks):\n",
        "    print(f\"Rank {rank+1}: Instrument {instrument_name} ({spread})\")"
      ],
      "metadata": {
        "colab": {
          "base_uri": "https://localhost:8080/"
        },
        "id": "V6UstgqNpLB2",
        "outputId": "9d077fa7-f2cb-4918-f751-f87c885f73e9"
      },
      "execution_count": null,
      "outputs": [
        {
          "output_type": "stream",
          "name": "stdout",
          "text": [
            "Average differnece between predicted and actual spread: 0.037155375\n",
            "\n",
            "There are 0 mismatches between the predicted and actual rankings.\n",
            "\n",
            "Predicted Instrument Rankings:\n",
            "Rank 1: Instrument LRC30APR Index PX_LAST_USGG5YR Index PX_LAST (2.7075023651123047)\n",
            "Rank 2: Instrument LRC30APR Index PX_LAST_GT5 Govt PX_LAST (2.7055823802948)\n",
            "Rank 3: Instrument LRC30APR Index PX_LAST_MTGEFNCL Index PX_LAST (1.4660471677780151)\n",
            "Rank 4: Instrument MTGEFNCL Index PX_LAST_USGG5YR Index PX_LAST (1.2438650131225586)\n",
            "Rank 5: Instrument MTGEFNCL Index PX_LAST_GT5 Govt PX_LAST (1.2379268407821655)\n",
            "Rank 6: Instrument GT5 Govt PX_LAST_USGG5YR Index PX_LAST (0.016798965632915497)\n",
            "Rank 7: Instrument USGG5YR Index PX_LAST_GT5 Govt PX_LAST (0.0024508454371243715)\n",
            "Rank 8: Instrument GT5 Govt PX_LAST_MTGEFNCL Index PX_LAST (-1.2439160346984863)\n",
            "Rank 9: Instrument USGG5YR Index PX_LAST_MTGEFNCL Index PX_LAST (-1.2456328868865967)\n",
            "Rank 10: Instrument MTGEFNCL Index PX_LAST_LRC30APR Index PX_LAST (-1.4609274864196777)\n",
            "Rank 11: Instrument GT5 Govt PX_LAST_LRC30APR Index PX_LAST (-2.706270456314087)\n",
            "Rank 12: Instrument USGG5YR Index PX_LAST_LRC30APR Index PX_LAST (-2.707367181777954)\n",
            "\n",
            "Actual Instrument Rankings:\n",
            "Rank 1: Instrument LRC30APR Index PX_LAST_USGG5YR Index PX_LAST (2.7022347450256348)\n",
            "Rank 2: Instrument LRC30APR Index PX_LAST_GT5 Govt PX_LAST (2.700900077819824)\n",
            "Rank 3: Instrument LRC30APR Index PX_LAST_MTGEFNCL Index PX_LAST (1.4606841802597046)\n",
            "Rank 4: Instrument MTGEFNCL Index PX_LAST_USGG5YR Index PX_LAST (1.241551160812378)\n",
            "Rank 5: Instrument MTGEFNCL Index PX_LAST_GT5 Govt PX_LAST (1.24021577835083)\n",
            "Rank 6: Instrument GT5 Govt PX_LAST_USGG5YR Index PX_LAST (0.0013349999208003283)\n",
            "Rank 7: Instrument USGG5YR Index PX_LAST_GT5 Govt PX_LAST (-0.0013349999208003283)\n",
            "Rank 8: Instrument GT5 Govt PX_LAST_MTGEFNCL Index PX_LAST (-1.24021577835083)\n",
            "Rank 9: Instrument USGG5YR Index PX_LAST_MTGEFNCL Index PX_LAST (-1.241551160812378)\n",
            "Rank 10: Instrument MTGEFNCL Index PX_LAST_LRC30APR Index PX_LAST (-1.4606841802597046)\n",
            "Rank 11: Instrument GT5 Govt PX_LAST_LRC30APR Index PX_LAST (-2.700900077819824)\n",
            "Rank 12: Instrument USGG5YR Index PX_LAST_LRC30APR Index PX_LAST (-2.7022347450256348)\n"
          ]
        }
      ]
    }
  ]
}